{
 "cells": [
  {
   "cell_type": "code",
   "execution_count": null,
   "metadata": {},
   "outputs": [],
   "source": [
    "from ucimlrepo import fetch_ucirepo \n",
    "#pip install ucimlrepo\n",
    "# fetch dataset \n",
    "wine_quality = fetch_ucirepo(id=186) \n",
    "  \n",
    "# data (as pandas dataframes) \n",
    "X = wine_quality.data.features \n",
    "y = wine_quality.data.targets \n",
    "  \n",
    "# metadata \n",
    "print(wine_quality.metadata) \n",
    "  \n",
    "# variable information \n",
    "print(wine_quality.variables) \n",
    "\n",
    "\n",
    "wine_quality['data'].keys()\n",
    "whole_dataset = wine_quality['data']['original']\n",
    "\n",
    "import seaborn as sns\n",
    "import numpy as np\n",
    "import matplotlib.pyplot as plt\n",
    "grouped_color = whole_dataset.groupby(['color', 'quality']).count()\n",
    "##8B0000\", \"#A52A2A\", \"#B22222\", \"#800000\", \"#FF4500\", \"#FFD700\n",
    "plt.figure(figsize=(8, 6))\n",
    "sns.barplot(data = grouped_color, x = 'quality', y = 'alcohol', hue = 'color', palette = [\"#B22222\",\"#D2B48C\"]) \n",
    "plt.ylabel('Number of Wines')\n",
    "plt.xlabel('Quality Score and Color')"
   ]
  },
  {
   "cell_type": "code",
   "execution_count": null,
   "metadata": {},
   "outputs": [],
   "source": [
    "grouped_color_avg = whole_dataset.groupby(['color']).mean()\n",
    "grouped_color_avg[['quality']]"
   ]
  }
 ],
 "metadata": {
  "language_info": {
   "name": "python"
  }
 },
 "nbformat": 4,
 "nbformat_minor": 2
}
